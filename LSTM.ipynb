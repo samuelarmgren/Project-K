{
 "cells": [
  {
   "cell_type": "code",
   "execution_count": null,
   "id": "d148be4d",
   "metadata": {},
   "outputs": [],
   "source": [
    "\n",
    "import numpy as np\n",
    "import torch\n",
    "import torch.nn as nn\n",
    "from torch.utils.data import TensorDataset, DataLoader, random_split\n",
    "from sklearn.metrics import confusion_matrix, classification_report, r2_score\n",
    "import matplotlib.pyplot as plt\n",
    "import seaborn as sns\n",
    "\n",
    "# 1. Load and normalize the data\n",
    "X = np.load(\"X.npy\")  # Shape: (N, 1000, 12)\n",
    "y = np.load(\"y.npy\")  # Shape: (N, 2000, 12)\n",
    "#y = y[:, :1000, :]\n",
    "\n",
    "# Normalize features across all samples and timesteps\n",
    "X_mean = X.mean(axis=(0, 1), keepdims=True)\n",
    "X_std = X.std(axis=(0, 1), keepdims=True)\n",
    "X = (X - X_mean) / (X_std + 1e-8)\n",
    "\n",
    "y_mean = y.mean(axis=(0, 1), keepdims=True)\n",
    "y_std = y.std(axis=(0, 1), keepdims=True)\n",
    "y = (y - y_mean) / (y_std + 1e-8)\n",
    "\n",
    "# 2. Convert to PyTorch tensors\n",
    "X_tensor = torch.tensor(X, dtype=torch.float32)\n",
    "y_tensor = torch.tensor(y, dtype=torch.float32)\n",
    "\n",
    "# 3. Dataset and DataLoader\n",
    "dataset = TensorDataset(X_tensor, y_tensor)\n",
    "train_size = int(0.8 * len(dataset))\n",
    "val_size = len(dataset) - train_size\n",
    "train_dataset, val_dataset = random_split(dataset, [train_size, val_size])\n",
    "\n",
    "train_loader = DataLoader(train_dataset, batch_size=64, shuffle=True)\n",
    "val_loader = DataLoader(val_dataset, batch_size=64)\n",
    "\n",
    "# 4. Define LSTM model with Dropout\n",
    "class LSTMPredictor(nn.Module):\n",
    "    def __init__(self, input_size=12, hidden_size=384, num_layers=3, dropout=0.3, output_seq_len=2000):\n",
    "        super(LSTMPredictor, self).__init__()\n",
    "        self.hidden_size = hidden_size\n",
    "        self.num_layers = num_layers\n",
    "        self.output_seq_len = output_seq_len\n",
    "\n",
    "        self.encoder = nn.LSTM(input_size, hidden_size, num_layers, batch_first=True, dropout=dropout)\n",
    "        self.decoder = nn.LSTM(input_size, hidden_size, num_layers, batch_first=True, dropout=dropout)\n",
    "\n",
    "       \n",
    "        self.activation = nn.Tanh()\n",
    "\n",
    "       \n",
    "        self.decoder_mid = nn.Sequential(\n",
    "            nn.Linear(hidden_size, hidden_size),\n",
    "            nn.Tanh()\n",
    "        )\n",
    "\n",
    "        self.fc_out = nn.Linear(hidden_size, input_size)\n",
    "\n",
    "    def forward(self, x):\n",
    "        batch_size = x.size(0)\n",
    "\n",
    "        # Encode\n",
    "        _, (hidden, cell) = self.encoder(x)\n",
    "\n",
    "        # Start decoder with last input\n",
    "        decoder_input = x[:, -1:, :]  # Shape: (batch, 1, input_size)\n",
    "        outputs = []\n",
    "\n",
    "        for _ in range(self.output_seq_len):\n",
    "            out, (hidden, cell) = self.decoder(decoder_input, (hidden, cell))\n",
    "            #out = self.activation(out)\n",
    "            out = self.decoder_mid(out)\n",
    "            prediction = self.fc_out(out)  # Shape: (batch, 1, input_size)\n",
    "            outputs.append(prediction)\n",
    "            decoder_input = prediction  # Auto-regression\n",
    "\n",
    "        return torch.cat(outputs, dim=1)  # (batch, 2000, input_size)\n",
    "\n",
    "\n",
    "\n",
    "# 5. Instantiate model, loss, optimizer\n",
    "device = torch.device(\"cuda\" if torch.cuda.is_available() else \"cpu\")\n",
    "model = LSTMPredictor().to(device)\n",
    "#weights = torch.tensor([770, 45, 1.05])\n",
    "criterion = nn.MSELoss()\n",
    "optimizer = torch.optim.Adam(model.parameters(), lr=1e-3)"
   ]
  },
  {
   "cell_type": "code",
   "execution_count": null,
   "id": "cd05e25e",
   "metadata": {},
   "outputs": [
    {
     "name": "stdout",
     "output_type": "stream",
     "text": [
      "Epoch 1, Training Loss: 1.2400, Val Loss: 1.1209\n",
      "Epoch 10, Training Loss: 0.7970, Val Loss: 1.0952\n"
     ]
    },
    {
     "ename": "KeyboardInterrupt",
     "evalue": "",
     "output_type": "error",
     "traceback": [
      "\u001b[31m---------------------------------------------------------------------------\u001b[39m",
      "\u001b[31mKeyboardInterrupt\u001b[39m                         Traceback (most recent call last)",
      "\u001b[36mCell\u001b[39m\u001b[36m \u001b[39m\u001b[32mIn[2]\u001b[39m\u001b[32m, line 9\u001b[39m\n\u001b[32m      7\u001b[39m     outputs = model(batch_X)\n\u001b[32m      8\u001b[39m     loss = criterion(outputs, batch_y)\n\u001b[32m----> \u001b[39m\u001b[32m9\u001b[39m     \u001b[43mloss\u001b[49m\u001b[43m.\u001b[49m\u001b[43mbackward\u001b[49m\u001b[43m(\u001b[49m\u001b[43m)\u001b[49m\n\u001b[32m     10\u001b[39m     optimizer.step()\n\u001b[32m     12\u001b[39m \u001b[38;5;28;01mif\u001b[39;00m epoch % \u001b[32m10\u001b[39m == \u001b[32m0\u001b[39m \u001b[38;5;129;01mor\u001b[39;00m epoch == \u001b[32m1\u001b[39m:\n",
      "\u001b[36mFile \u001b[39m\u001b[32m/opt/anaconda3/envs/myvenv/lib/python3.11/site-packages/torch/_tensor.py:626\u001b[39m, in \u001b[36mTensor.backward\u001b[39m\u001b[34m(self, gradient, retain_graph, create_graph, inputs)\u001b[39m\n\u001b[32m    616\u001b[39m \u001b[38;5;28;01mif\u001b[39;00m has_torch_function_unary(\u001b[38;5;28mself\u001b[39m):\n\u001b[32m    617\u001b[39m     \u001b[38;5;28;01mreturn\u001b[39;00m handle_torch_function(\n\u001b[32m    618\u001b[39m         Tensor.backward,\n\u001b[32m    619\u001b[39m         (\u001b[38;5;28mself\u001b[39m,),\n\u001b[32m   (...)\u001b[39m\u001b[32m    624\u001b[39m         inputs=inputs,\n\u001b[32m    625\u001b[39m     )\n\u001b[32m--> \u001b[39m\u001b[32m626\u001b[39m \u001b[43mtorch\u001b[49m\u001b[43m.\u001b[49m\u001b[43mautograd\u001b[49m\u001b[43m.\u001b[49m\u001b[43mbackward\u001b[49m\u001b[43m(\u001b[49m\n\u001b[32m    627\u001b[39m \u001b[43m    \u001b[49m\u001b[38;5;28;43mself\u001b[39;49m\u001b[43m,\u001b[49m\u001b[43m \u001b[49m\u001b[43mgradient\u001b[49m\u001b[43m,\u001b[49m\u001b[43m \u001b[49m\u001b[43mretain_graph\u001b[49m\u001b[43m,\u001b[49m\u001b[43m \u001b[49m\u001b[43mcreate_graph\u001b[49m\u001b[43m,\u001b[49m\u001b[43m \u001b[49m\u001b[43minputs\u001b[49m\u001b[43m=\u001b[49m\u001b[43minputs\u001b[49m\n\u001b[32m    628\u001b[39m \u001b[43m\u001b[49m\u001b[43m)\u001b[49m\n",
      "\u001b[36mFile \u001b[39m\u001b[32m/opt/anaconda3/envs/myvenv/lib/python3.11/site-packages/torch/autograd/__init__.py:347\u001b[39m, in \u001b[36mbackward\u001b[39m\u001b[34m(tensors, grad_tensors, retain_graph, create_graph, grad_variables, inputs)\u001b[39m\n\u001b[32m    342\u001b[39m     retain_graph = create_graph\n\u001b[32m    344\u001b[39m \u001b[38;5;66;03m# The reason we repeat the same comment below is that\u001b[39;00m\n\u001b[32m    345\u001b[39m \u001b[38;5;66;03m# some Python versions print out the first line of a multi-line function\u001b[39;00m\n\u001b[32m    346\u001b[39m \u001b[38;5;66;03m# calls in the traceback and some print out the last line\u001b[39;00m\n\u001b[32m--> \u001b[39m\u001b[32m347\u001b[39m \u001b[43m_engine_run_backward\u001b[49m\u001b[43m(\u001b[49m\n\u001b[32m    348\u001b[39m \u001b[43m    \u001b[49m\u001b[43mtensors\u001b[49m\u001b[43m,\u001b[49m\n\u001b[32m    349\u001b[39m \u001b[43m    \u001b[49m\u001b[43mgrad_tensors_\u001b[49m\u001b[43m,\u001b[49m\n\u001b[32m    350\u001b[39m \u001b[43m    \u001b[49m\u001b[43mretain_graph\u001b[49m\u001b[43m,\u001b[49m\n\u001b[32m    351\u001b[39m \u001b[43m    \u001b[49m\u001b[43mcreate_graph\u001b[49m\u001b[43m,\u001b[49m\n\u001b[32m    352\u001b[39m \u001b[43m    \u001b[49m\u001b[43minputs\u001b[49m\u001b[43m,\u001b[49m\n\u001b[32m    353\u001b[39m \u001b[43m    \u001b[49m\u001b[43mallow_unreachable\u001b[49m\u001b[43m=\u001b[49m\u001b[38;5;28;43;01mTrue\u001b[39;49;00m\u001b[43m,\u001b[49m\n\u001b[32m    354\u001b[39m \u001b[43m    \u001b[49m\u001b[43maccumulate_grad\u001b[49m\u001b[43m=\u001b[49m\u001b[38;5;28;43;01mTrue\u001b[39;49;00m\u001b[43m,\u001b[49m\n\u001b[32m    355\u001b[39m \u001b[43m\u001b[49m\u001b[43m)\u001b[49m\n",
      "\u001b[36mFile \u001b[39m\u001b[32m/opt/anaconda3/envs/myvenv/lib/python3.11/site-packages/torch/autograd/graph.py:823\u001b[39m, in \u001b[36m_engine_run_backward\u001b[39m\u001b[34m(t_outputs, *args, **kwargs)\u001b[39m\n\u001b[32m    821\u001b[39m     unregister_hooks = _register_logging_hooks_on_whole_graph(t_outputs)\n\u001b[32m    822\u001b[39m \u001b[38;5;28;01mtry\u001b[39;00m:\n\u001b[32m--> \u001b[39m\u001b[32m823\u001b[39m     \u001b[38;5;28;01mreturn\u001b[39;00m \u001b[43mVariable\u001b[49m\u001b[43m.\u001b[49m\u001b[43m_execution_engine\u001b[49m\u001b[43m.\u001b[49m\u001b[43mrun_backward\u001b[49m\u001b[43m(\u001b[49m\u001b[43m  \u001b[49m\u001b[38;5;66;43;03m# Calls into the C++ engine to run the backward pass\u001b[39;49;00m\n\u001b[32m    824\u001b[39m \u001b[43m        \u001b[49m\u001b[43mt_outputs\u001b[49m\u001b[43m,\u001b[49m\u001b[43m \u001b[49m\u001b[43m*\u001b[49m\u001b[43margs\u001b[49m\u001b[43m,\u001b[49m\u001b[43m \u001b[49m\u001b[43m*\u001b[49m\u001b[43m*\u001b[49m\u001b[43mkwargs\u001b[49m\n\u001b[32m    825\u001b[39m \u001b[43m    \u001b[49m\u001b[43m)\u001b[49m  \u001b[38;5;66;03m# Calls into the C++ engine to run the backward pass\u001b[39;00m\n\u001b[32m    826\u001b[39m \u001b[38;5;28;01mfinally\u001b[39;00m:\n\u001b[32m    827\u001b[39m     \u001b[38;5;28;01mif\u001b[39;00m attach_logging_hooks:\n",
      "\u001b[31mKeyboardInterrupt\u001b[39m: "
     ]
    }
   ],
   "source": [
    "# 6. Training loop\n",
    "for epoch in range(1, 61):\n",
    "    model.train()\n",
    "    for batch_X, batch_y in train_loader:\n",
    "        batch_X, batch_y = batch_X.to(device), batch_y.to(device)\n",
    "        optimizer.zero_grad()\n",
    "        outputs = model(batch_X)\n",
    "        loss = criterion(outputs, batch_y)\n",
    "        loss.backward()\n",
    "        optimizer.step()\n",
    "\n",
    "    if epoch % 10 == 0 or epoch == 1:\n",
    "        model.eval()\n",
    "        val_loss = 0\n",
    "        with torch.no_grad():\n",
    "            for val_X, val_y in val_loader:\n",
    "                val_X, val_y = val_X.to(device), val_y.to(device)\n",
    "                outputs = model(val_X)\n",
    "                val_loss += criterion(outputs, val_y).item()\n",
    "        val_loss /= len(val_loader)\n",
    "        print(f\"Epoch {epoch}, Training Loss: {loss.item():.4f}, Val Loss: {val_loss:.4f}\")\n",
    "\n",
    "model.eval()\n",
    "total_mse = total_mae = 0\n",
    "r2_scores = []\n",
    "\n",
    "with torch.no_grad():\n",
    "    for val_X, val_y in val_loader:\n",
    "        val_X, val_y = val_X.to(device), val_y.to(device)\n",
    "        outputs = model(val_X)\n",
    "\n",
    "        total_mse += nn.functional.mse_loss(outputs, val_y, reduction='sum').item()\n",
    "        total_mae += nn.functional.l1_loss(outputs, val_y, reduction='sum').item()\n",
    "\n",
    "        # Optionally compute R^2 score\n",
    "        pred_np = outputs.cpu().numpy().reshape(-1, 12)\n",
    "        true_np = val_y.cpu().numpy().reshape(-1, 12)\n",
    "        r2_scores.append(r2_score(true_np, pred_np))\n",
    "\n",
    "avg_mse = total_mse / len(val_dataset)\n",
    "avg_mae = total_mae / len(val_dataset)\n",
    "avg_r2 = np.mean(r2_scores)\n",
    "\n",
    "print(f\"\\nValidation MSE: {avg_mse:.4f}\")\n",
    "print(f\"Validation MAE: {avg_mae:.4f}\")\n",
    "print(f\"Validation R² Score: {avg_r2:.4f}\")\n",
    "\n",
    "torch.save(model.state_dict(), \"lstm_model.pth\")\n",
    "\n",
    "\n",
    "\n"
   ]
  },
  {
   "cell_type": "code",
   "execution_count": null,
   "id": "efa9a774",
   "metadata": {},
   "outputs": [
    {
     "data": {
      "image/png": "[encoded data removed]",
      "text/plain": [
       "<Figure size 640x480 with 1 Axes>"
      ]
     },
     "metadata": {},
     "output_type": "display_data"
    },
    {
     "name": "stdout",
     "output_type": "stream",
     "text": [
      "2000\n"
     ]
    },
    {
     "data": {
      "text/plain": [
       "2000"
      ]
     },
     "execution_count": 9,
     "metadata": {},
     "output_type": "execute_result"
    }
   ],
   "source": [
    "X = np.load(\"X.npy\")\n",
    "y = np.load(\"y.npy\")\n",
    "\n",
    "\n",
    "X_norm = (X - X_mean) / (X_std + 1e-8)\n",
    "y_norm = (y - y_mean) / (y_std + 1e-8)\n",
    "\n",
    "i = 1 # sample index 70, \n",
    "z = np.concatenate((X[i], y[i]), axis=0)\n",
    "\n",
    "input_seq = torch.tensor(X_norm[i], dtype=torch.float32).unsqueeze(0).to(device)  # (1, 1000, 12)\n",
    "\n",
    "true_future = y[i] # (4000, 12)\n",
    "model.eval()\n",
    "with torch.no_grad():\n",
    "    pred_norm = model(input_seq).squeeze(0).cpu().numpy()\n",
    "\n",
    "\n",
    "pred = pred_norm * y_std.squeeze() + y_mean.squeeze()\n",
    "true_future = true_future  \n",
    "\n",
    "# Plot trajectory for body 0\n",
    "plt.plot(true_future[:, 0], true_future[:, 1], label=\"Ground truth\")\n",
    "plt.plot(pred[:, 0], pred[:, 1], '--', label=\"Prediction\")\n",
    "plt.legend()\n",
    "plt.axis(\"equal\")\n",
    "plt.show()\n",
    "print(len(pred))\n",
    "len(true_future)"
   ]
  },
  {
   "cell_type": "code",
   "execution_count": null,
   "id": "f423e78c",
   "metadata": {},
   "outputs": [],
   "source": []
  }
 ],
 "metadata": {
  "kernelspec": {
   "display_name": "myvenv",
   "language": "python",
   "name": "python3"
  },
  "language_info": {
   "codemirror_mode": {
    "name": "ipython",
    "version": 3
   },
   "file_extension": ".py",
   "mimetype": "text/x-python",
   "name": "python",
   "nbconvert_exporter": "python",
   "pygments_lexer": "ipython3",
   "version": "3.11.11"
  }
 },
 "nbformat": 4,
 "nbformat_minor": 5
}
